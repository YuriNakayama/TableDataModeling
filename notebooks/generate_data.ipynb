{
 "cells": [
  {
   "cell_type": "markdown",
   "id": "543efd69",
   "metadata": {},
   "source": [
    "# Import & Setting"
   ]
  },
  {
   "cell_type": "markdown",
   "id": "f8be0602",
   "metadata": {},
   "source": [
    "## Import"
   ]
  },
  {
   "cell_type": "code",
   "execution_count": 10,
   "id": "469c706c",
   "metadata": {
    "ExecuteTime": {
     "end_time": "2023-11-26T08:03:32.743011Z",
     "start_time": "2023-11-26T08:03:32.739072Z"
    }
   },
   "outputs": [],
   "source": [
    "import numpy as np\n",
    "import pandas as pd"
   ]
  },
  {
   "cell_type": "markdown",
   "id": "303ee039",
   "metadata": {},
   "source": [
    "# Functions"
   ]
  },
  {
   "cell_type": "code",
   "execution_count": 11,
   "id": "539cdd83",
   "metadata": {
    "ExecuteTime": {
     "end_time": "2023-11-26T08:03:32.919732Z",
     "start_time": "2023-11-26T08:03:32.911425Z"
    },
    "code_folding": [
     0
    ]
   },
   "outputs": [],
   "source": [
    "def generate_multicollinear_data(n_samples=1000, n_features=10):\n",
    "    \"\"\"\n",
    "    Generate a dataset with multicollinearity and additional features.\n",
    "\n",
    "    Parameters:\n",
    "    - n_samples: The number of samples to generate.\n",
    "    - n_features: The total number of features. At least 3 required.\n",
    "\n",
    "    Returns:\n",
    "    - A pandas DataFrame with n_features columns, where multicollinearity is present.\n",
    "    \"\"\"\n",
    "    if n_features < 3:\n",
    "        raise ValueError(\"Number of features must be at least 3.\")\n",
    "\n",
    "    np.random.seed(0)\n",
    "\n",
    "    # Generate the first feature\n",
    "    X1 = np.random.normal(0, 1, n_samples)\n",
    "\n",
    "    # Generate dependent variables with multicollinearity\n",
    "    X2 = 0.5 * X1 + np.random.normal(0, 1, n_samples)\n",
    "    X3 = -0.7 * X1 + np.random.normal(0, 1, n_samples)\n",
    "\n",
    "    # Initialize DataFrame with first three features\n",
    "    df = pd.DataFrame({'X1': X1, 'X2': X2, 'X3': X3})\n",
    "\n",
    "    # Generate additional features with some random values\n",
    "    for i in range(4, n_features + 1):\n",
    "        df[f'X{i}'] = np.random.normal(0, 1, n_samples)\n",
    "\n",
    "    return df"
   ]
  },
  {
   "cell_type": "code",
   "execution_count": 42,
   "id": "68f00e7c",
   "metadata": {
    "ExecuteTime": {
     "end_time": "2023-11-26T08:24:33.988801Z",
     "start_time": "2023-11-26T08:24:33.980714Z"
    },
    "code_folding": [
     0
    ]
   },
   "outputs": [],
   "source": [
    "def generate_target_variable(df, noise_level=0.5):\n",
    "    \"\"\"\n",
    "    Generate a target variable for the given DataFrame.\n",
    "\n",
    "    The target variable is created as a linear combination of some of the features in the DataFrame,\n",
    "    with added noise.\n",
    "\n",
    "    Parameters:\n",
    "    - df: DataFrame with the feature variables.\n",
    "    - noise_level: The standard deviation of the Gaussian noise added to the target variable.\n",
    "\n",
    "    Returns:\n",
    "    - A numpy array representing the target variable.\n",
    "    \"\"\"\n",
    "    np.random.seed(0)\n",
    "\n",
    "    # Create a linear combination of some features\n",
    "    # Here, we arbitrarily choose coefficients for the linear combination\n",
    "    coefficients = [0.3, -0.2, 0.5, 0.1, -0.1, 0.3, 0, 0.2, -0.2, 0.1]\n",
    "    \n",
    "    if len(df.columns) != len(coefficients):\n",
    "        raise ValueError(\"The length of coefficients should match the number of features in the DataFrame.\")\n",
    "\n",
    "    # Calculate the target variable\n",
    "    y = np.dot(df.values, coefficients) + np.random.normal(0, noise_level, df.shape[0])\n",
    "    y = pd.DataFrame(y, columns=[\"ans\"])\n",
    "\n",
    "    return y"
   ]
  },
  {
   "cell_type": "code",
   "execution_count": 55,
   "id": "8ae44406",
   "metadata": {
    "ExecuteTime": {
     "end_time": "2023-11-26T09:02:22.253771Z",
     "start_time": "2023-11-26T09:02:22.246101Z"
    }
   },
   "outputs": [],
   "source": [
    "def generate_target_with_differential_importance(df, noise_level=0.5):\n",
    "    \"\"\"\n",
    "    Generate a target variable with differential feature importance for the given DataFrame.\n",
    "\n",
    "    The target variable is created as a nonlinear combination of all features in the DataFrame,\n",
    "    with different weights to create importance differences, and added noise.\n",
    "\n",
    "    Parameters:\n",
    "    - df: DataFrame with the feature variables.\n",
    "    - noise_level: The standard deviation of the Gaussian noise added to the target variable.\n",
    "\n",
    "    Returns:\n",
    "    - A numpy array representing the target variable with differential feature importance.\n",
    "    \"\"\"\n",
    "    np.random.seed(0)\n",
    "\n",
    "    # Number of features in the DataFrame\n",
    "    n_features = df.shape[1]\n",
    "\n",
    "    # Apply a nonlinear transformation to each feature\n",
    "    transformed_features = np.sin(df) + np.log(np.abs(df) + 1)\n",
    "\n",
    "    # Assign different weights to each feature to create importance differences\n",
    "    weights = np.linspace(1, 0.1, n_features)\n",
    "    weighted_features = transformed_features * weights\n",
    "\n",
    "    # Sum up the weighted features and add noise to create the target variable\n",
    "    y = np.sum(weighted_features, axis=1) + np.random.normal(0, noise_level, df.shape[0])\n",
    "\n",
    "    return y"
   ]
  },
  {
   "cell_type": "markdown",
   "id": "662b2bbb",
   "metadata": {},
   "source": [
    "# Generate Data"
   ]
  },
  {
   "cell_type": "code",
   "execution_count": 46,
   "id": "7ab6132a",
   "metadata": {
    "ExecuteTime": {
     "end_time": "2023-11-26T08:59:06.132059Z",
     "start_time": "2023-11-26T08:59:06.112359Z"
    },
    "scrolled": false
   },
   "outputs": [
    {
     "data": {
      "text/html": [
       "<div>\n",
       "<style scoped>\n",
       "    .dataframe tbody tr th:only-of-type {\n",
       "        vertical-align: middle;\n",
       "    }\n",
       "\n",
       "    .dataframe tbody tr th {\n",
       "        vertical-align: top;\n",
       "    }\n",
       "\n",
       "    .dataframe thead th {\n",
       "        text-align: right;\n",
       "    }\n",
       "</style>\n",
       "<table border=\"1\" class=\"dataframe\">\n",
       "  <thead>\n",
       "    <tr style=\"text-align: right;\">\n",
       "      <th></th>\n",
       "      <th>X1</th>\n",
       "      <th>X2</th>\n",
       "      <th>X3</th>\n",
       "      <th>X4</th>\n",
       "      <th>X5</th>\n",
       "      <th>X6</th>\n",
       "      <th>X7</th>\n",
       "      <th>X8</th>\n",
       "      <th>X9</th>\n",
       "      <th>X10</th>\n",
       "    </tr>\n",
       "  </thead>\n",
       "  <tbody>\n",
       "    <tr>\n",
       "      <th>0</th>\n",
       "      <td>1.764052</td>\n",
       "      <td>1.437989</td>\n",
       "      <td>-2.767758</td>\n",
       "      <td>1.593274</td>\n",
       "      <td>0.613349</td>\n",
       "      <td>0.309724</td>\n",
       "      <td>2.042536</td>\n",
       "      <td>-0.514878</td>\n",
       "      <td>0.997845</td>\n",
       "      <td>1.417079</td>\n",
       "    </tr>\n",
       "    <tr>\n",
       "      <th>1</th>\n",
       "      <td>0.400157</td>\n",
       "      <td>1.092552</td>\n",
       "      <td>-1.992080</td>\n",
       "      <td>0.568722</td>\n",
       "      <td>1.843700</td>\n",
       "      <td>-0.737456</td>\n",
       "      <td>-0.919461</td>\n",
       "      <td>0.417854</td>\n",
       "      <td>0.260081</td>\n",
       "      <td>0.443729</td>\n",
       "    </tr>\n",
       "    <tr>\n",
       "      <th>2</th>\n",
       "      <td>0.978738</td>\n",
       "      <td>0.067054</td>\n",
       "      <td>-0.638982</td>\n",
       "      <td>-0.114487</td>\n",
       "      <td>0.271091</td>\n",
       "      <td>-1.536920</td>\n",
       "      <td>0.114670</td>\n",
       "      <td>-2.048833</td>\n",
       "      <td>0.925066</td>\n",
       "      <td>-0.076973</td>\n",
       "    </tr>\n",
       "    <tr>\n",
       "      <th>3</th>\n",
       "      <td>2.240893</td>\n",
       "      <td>1.225161</td>\n",
       "      <td>-2.527000</td>\n",
       "      <td>0.251630</td>\n",
       "      <td>1.136448</td>\n",
       "      <td>-0.562255</td>\n",
       "      <td>-0.137424</td>\n",
       "      <td>-0.989744</td>\n",
       "      <td>1.476076</td>\n",
       "      <td>-1.091534</td>\n",
       "    </tr>\n",
       "    <tr>\n",
       "      <th>4</th>\n",
       "      <td>1.867558</td>\n",
       "      <td>1.161832</td>\n",
       "      <td>-1.388102</td>\n",
       "      <td>-1.210856</td>\n",
       "      <td>-1.738332</td>\n",
       "      <td>-1.599511</td>\n",
       "      <td>1.365527</td>\n",
       "      <td>-0.338294</td>\n",
       "      <td>-1.879252</td>\n",
       "      <td>-0.437457</td>\n",
       "    </tr>\n",
       "    <tr>\n",
       "      <th>...</th>\n",
       "      <td>...</td>\n",
       "      <td>...</td>\n",
       "      <td>...</td>\n",
       "      <td>...</td>\n",
       "      <td>...</td>\n",
       "      <td>...</td>\n",
       "      <td>...</td>\n",
       "      <td>...</td>\n",
       "      <td>...</td>\n",
       "      <td>...</td>\n",
       "    </tr>\n",
       "    <tr>\n",
       "      <th>995</th>\n",
       "      <td>0.412871</td>\n",
       "      <td>0.304186</td>\n",
       "      <td>1.790167</td>\n",
       "      <td>-0.503890</td>\n",
       "      <td>-0.101374</td>\n",
       "      <td>-1.330804</td>\n",
       "      <td>1.237818</td>\n",
       "      <td>-0.643267</td>\n",
       "      <td>0.053107</td>\n",
       "      <td>-1.809282</td>\n",
       "    </tr>\n",
       "    <tr>\n",
       "      <th>996</th>\n",
       "      <td>-0.198399</td>\n",
       "      <td>1.302324</td>\n",
       "      <td>-0.768587</td>\n",
       "      <td>1.779559</td>\n",
       "      <td>0.746666</td>\n",
       "      <td>0.352599</td>\n",
       "      <td>0.289368</td>\n",
       "      <td>-0.828981</td>\n",
       "      <td>0.188168</td>\n",
       "      <td>0.042359</td>\n",
       "    </tr>\n",
       "    <tr>\n",
       "      <th>997</th>\n",
       "      <td>0.094192</td>\n",
       "      <td>0.205530</td>\n",
       "      <td>-0.258339</td>\n",
       "      <td>-0.030572</td>\n",
       "      <td>0.929182</td>\n",
       "      <td>-0.537885</td>\n",
       "      <td>-1.004584</td>\n",
       "      <td>-0.202735</td>\n",
       "      <td>-0.812624</td>\n",
       "      <td>0.516872</td>\n",
       "    </tr>\n",
       "    <tr>\n",
       "      <th>998</th>\n",
       "      <td>-1.147611</td>\n",
       "      <td>-1.715707</td>\n",
       "      <td>-0.409188</td>\n",
       "      <td>1.577088</td>\n",
       "      <td>0.229418</td>\n",
       "      <td>0.393444</td>\n",
       "      <td>-1.032532</td>\n",
       "      <td>-0.257866</td>\n",
       "      <td>-1.081047</td>\n",
       "      <td>-0.032921</td>\n",
       "    </tr>\n",
       "    <tr>\n",
       "      <th>999</th>\n",
       "      <td>-0.358114</td>\n",
       "      <td>-1.490027</td>\n",
       "      <td>0.170081</td>\n",
       "      <td>-0.812802</td>\n",
       "      <td>0.414406</td>\n",
       "      <td>0.286518</td>\n",
       "      <td>-0.901072</td>\n",
       "      <td>0.070815</td>\n",
       "      <td>0.684116</td>\n",
       "      <td>1.298111</td>\n",
       "    </tr>\n",
       "  </tbody>\n",
       "</table>\n",
       "<p>1000 rows × 10 columns</p>\n",
       "</div>"
      ],
      "text/plain": [
       "           X1        X2        X3        X4        X5        X6        X7  \\\n",
       "0    1.764052  1.437989 -2.767758  1.593274  0.613349  0.309724  2.042536   \n",
       "1    0.400157  1.092552 -1.992080  0.568722  1.843700 -0.737456 -0.919461   \n",
       "2    0.978738  0.067054 -0.638982 -0.114487  0.271091 -1.536920  0.114670   \n",
       "3    2.240893  1.225161 -2.527000  0.251630  1.136448 -0.562255 -0.137424   \n",
       "4    1.867558  1.161832 -1.388102 -1.210856 -1.738332 -1.599511  1.365527   \n",
       "..        ...       ...       ...       ...       ...       ...       ...   \n",
       "995  0.412871  0.304186  1.790167 -0.503890 -0.101374 -1.330804  1.237818   \n",
       "996 -0.198399  1.302324 -0.768587  1.779559  0.746666  0.352599  0.289368   \n",
       "997  0.094192  0.205530 -0.258339 -0.030572  0.929182 -0.537885 -1.004584   \n",
       "998 -1.147611 -1.715707 -0.409188  1.577088  0.229418  0.393444 -1.032532   \n",
       "999 -0.358114 -1.490027  0.170081 -0.812802  0.414406  0.286518 -0.901072   \n",
       "\n",
       "           X8        X9       X10  \n",
       "0   -0.514878  0.997845  1.417079  \n",
       "1    0.417854  0.260081  0.443729  \n",
       "2   -2.048833  0.925066 -0.076973  \n",
       "3   -0.989744  1.476076 -1.091534  \n",
       "4   -0.338294 -1.879252 -0.437457  \n",
       "..        ...       ...       ...  \n",
       "995 -0.643267  0.053107 -1.809282  \n",
       "996 -0.828981  0.188168  0.042359  \n",
       "997 -0.202735 -0.812624  0.516872  \n",
       "998 -0.257866 -1.081047 -0.032921  \n",
       "999  0.070815  0.684116  1.298111  \n",
       "\n",
       "[1000 rows x 10 columns]"
      ]
     },
     "execution_count": 46,
     "metadata": {},
     "output_type": "execute_result"
    }
   ],
   "source": [
    "# Generate the dataset\n",
    "df_generated = generate_multicollinear_data()\n",
    "df_generated"
   ]
  },
  {
   "cell_type": "code",
   "execution_count": 47,
   "id": "868e459f",
   "metadata": {
    "ExecuteTime": {
     "end_time": "2023-11-26T08:59:07.011609Z",
     "start_time": "2023-11-26T08:59:06.991740Z"
    }
   },
   "outputs": [],
   "source": [
    "df_generated.to_csv(\"/root/data/explain.csv\")"
   ]
  },
  {
   "cell_type": "code",
   "execution_count": 56,
   "id": "e11be8cd",
   "metadata": {
    "ExecuteTime": {
     "end_time": "2023-11-26T09:02:32.085501Z",
     "start_time": "2023-11-26T09:02:32.072405Z"
    }
   },
   "outputs": [
    {
     "data": {
      "text/plain": [
       "0    8.901611\n",
       "1    4.720071\n",
       "2    2.752460\n",
       "3    6.799267\n",
       "4    5.002510\n",
       "5    1.415046\n",
       "6    4.385006\n",
       "7    1.812653\n",
       "8    1.720507\n",
       "9    3.967740\n",
       "dtype: float64"
      ]
     },
     "execution_count": 56,
     "metadata": {},
     "output_type": "execute_result"
    }
   ],
   "source": [
    "# Generate the target variable\n",
    "y = generate_target_with_differential_importance(df_generated)\n",
    "y[:10]  # Display the first 10 values of the target variable"
   ]
  },
  {
   "cell_type": "code",
   "execution_count": 57,
   "id": "a54a7313",
   "metadata": {
    "ExecuteTime": {
     "end_time": "2023-11-26T09:02:32.764055Z",
     "start_time": "2023-11-26T09:02:32.755857Z"
    }
   },
   "outputs": [],
   "source": [
    "y.to_csv(\"/root/data/answer.csv\")"
   ]
  },
  {
   "cell_type": "markdown",
   "id": "bbdd0393",
   "metadata": {},
   "source": [
    "# Visualize"
   ]
  },
  {
   "cell_type": "code",
   "execution_count": 50,
   "id": "787ae061",
   "metadata": {
    "ExecuteTime": {
     "end_time": "2023-11-26T08:59:10.786546Z",
     "start_time": "2023-11-26T08:59:10.781330Z"
    }
   },
   "outputs": [],
   "source": [
    "import seaborn as sns\n",
    "import matplotlib.pyplot as plt\n",
    "\n",
    "# Compute the correlation matrix\n",
    "corr_matrix = df_generated.corr()"
   ]
  },
  {
   "cell_type": "code",
   "execution_count": 51,
   "id": "3eff6137",
   "metadata": {
    "ExecuteTime": {
     "end_time": "2023-11-26T08:59:11.328973Z",
     "start_time": "2023-11-26T08:59:10.960885Z"
    }
   },
   "outputs": [
    {
     "data": {
      "image/png": "[encoded data removed]",
      "text/plain": [
       "<Figure size 1000x800 with 2 Axes>"
      ]
     },
     "metadata": {},
     "output_type": "display_data"
    }
   ],
   "source": [
    "# Set up the matplotlib figure\n",
    "fig = plt.figure(figsize=(10, 8))\n",
    "ax = fig.add_subplot(111)\n",
    "\n",
    "# Show the plot\n",
    "ax.set_title(\"Correlation Matrix Showing Multicollinearity\")\n",
    "\n",
    "# Draw the heatmap with the mask and correct aspect ratio\n",
    "sns.heatmap(\n",
    "    corr_matrix,\n",
    "    annot=True,\n",
    "    fmt=\".2f\",\n",
    "    cmap=\"coolwarm\",\n",
    "    square=True,\n",
    "    linewidths=0.5,\n",
    "    ax=ax,\n",
    ")\n",
    "plt.savefig(\"/root/outputs/correlation.png\")"
   ]
  },
  {
   "cell_type": "code",
   "execution_count": null,
   "id": "581d2e0d",
   "metadata": {},
   "outputs": [],
   "source": []
  },
  {
   "cell_type": "code",
   "execution_count": null,
   "id": "9229d023",
   "metadata": {},
   "outputs": [],
   "source": []
  }
 ],
 "metadata": {
  "kernelspec": {
   "display_name": "ascender",
   "language": "python",
   "name": "ascender"
  },
  "language_info": {
   "codemirror_mode": {
    "name": "ipython",
    "version": 3
   },
   "file_extension": ".py",
   "mimetype": "text/x-python",
   "name": "python",
   "nbconvert_exporter": "python",
   "pygments_lexer": "ipython3",
   "version": "3.10.12"
  },
  "toc": {
   "base_numbering": 1,
   "nav_menu": {},
   "number_sections": true,
   "sideBar": true,
   "skip_h1_title": false,
   "title_cell": "Table of Contents",
   "title_sidebar": "Contents",
   "toc_cell": false,
   "toc_position": {},
   "toc_section_display": true,
   "toc_window_display": false
  }
 },
 "nbformat": 4,
 "nbformat_minor": 5
}
