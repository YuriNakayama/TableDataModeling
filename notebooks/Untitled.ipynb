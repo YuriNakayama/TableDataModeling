{
 "cells": [
  {
   "cell_type": "markdown",
   "id": "f014c8be",
   "metadata": {},
   "source": [
    "# Import & Setting"
   ]
  },
  {
   "cell_type": "markdown",
   "id": "0f0771ee",
   "metadata": {},
   "source": [
    "## Import"
   ]
  },
  {
   "cell_type": "code",
   "execution_count": 49,
   "id": "61381431",
   "metadata": {
    "ExecuteTime": {
     "end_time": "2023-11-26T09:35:42.204415Z",
     "start_time": "2023-11-26T09:35:42.199438Z"
    }
   },
   "outputs": [],
   "source": [
    "from sklearn.model_selection import train_test_split\n",
    "from sklearn.linear_model import LinearRegression\n",
    "from sklearn.ensemble import GradientBoostingRegressor\n",
    "from sklearn.neural_network import MLPRegressor\n",
    "from sklearn.metrics import mean_squared_error, mean_absolute_error, r2_score, explained_variance_score\n",
    "import pandas as pd\n",
    "from tqdm import tqdm\n",
    "from copy import deepcopy"
   ]
  },
  {
   "cell_type": "markdown",
   "id": "9d269f21",
   "metadata": {},
   "source": [
    "# Functions"
   ]
  },
  {
   "cell_type": "code",
   "execution_count": 28,
   "id": "44c75c25",
   "metadata": {
    "ExecuteTime": {
     "end_time": "2023-11-26T09:02:38.541391Z",
     "start_time": "2023-11-26T09:02:38.531772Z"
    }
   },
   "outputs": [],
   "source": [
    "def null_importance(model, X, y, n_repeats=10):\n",
    "    \"\"\"\n",
    "    Calculate null importance of features by shuffling them and observing the effect on model performance.\n",
    "    \n",
    "    Parameters:\n",
    "    - model: The trained model.\n",
    "    - X: Feature data (DataFrame).\n",
    "    - y: Target data.\n",
    "    - n_repeats: Number of times to shuffle each feature.\n",
    "    \n",
    "    Returns:\n",
    "    - DataFrame with mean and standard deviation of the null importance scores for each feature.\n",
    "    \"\"\"\n",
    "    from sklearn.metrics import mean_squared_error\n",
    "    import numpy as np\n",
    "    import pandas as pd\n",
    "\n",
    "    baseline_score = mean_squared_error(y, model.predict(X))\n",
    "    scores = {feature: [] for feature in X.columns}\n",
    "    \n",
    "    for feature in X.columns:\n",
    "        X_feature = X.copy()\n",
    "        for _ in range(n_repeats):\n",
    "            X_feature[feature] = np.random.permutation(X_feature[feature])\n",
    "            score = mean_squared_error(y, model.predict(X_feature))\n",
    "            scores[feature].append(score)\n",
    "\n",
    "    importance_scores = {feature: np.mean(scores[feature]) - baseline_score for feature in X.columns}\n",
    "    importance_std = {feature: np.std(scores[feature]) for feature in X.columns}\n",
    "\n",
    "    return pd.DataFrame({\n",
    "        'Feature': importance_scores.keys(),\n",
    "        'Null Importance Mean': importance_scores.values(),\n",
    "        'Null Importance Std': importance_std.values()\n",
    "    })\n"
   ]
  },
  {
   "cell_type": "code",
   "execution_count": 29,
   "id": "b7fc757c",
   "metadata": {
    "ExecuteTime": {
     "end_time": "2023-11-26T09:02:39.111375Z",
     "start_time": "2023-11-26T09:02:39.102173Z"
    }
   },
   "outputs": [],
   "source": [
    "def permutation_importance(model, X, y, n_repeats=10):\n",
    "    \"\"\"\n",
    "    Calculate permutation importance of features by shuffling them and observing the effect on model performance.\n",
    "    \n",
    "    Parameters:\n",
    "    - model: The trained model.\n",
    "    - X: Feature data (DataFrame).\n",
    "    - y: Target data.\n",
    "    - n_repeats: Number of times to shuffle each feature.\n",
    "    \n",
    "    Returns:\n",
    "    - DataFrame with mean and standard deviation of the permutation importance scores for each feature.\n",
    "    \"\"\"\n",
    "    from sklearn.metrics import mean_squared_error\n",
    "    import numpy as np\n",
    "    import pandas as pd\n",
    "\n",
    "    baseline_score = mean_squared_error(y, model.predict(X))\n",
    "    scores = {feature: [] for feature in X.columns}\n",
    "    \n",
    "    for feature in X.columns:\n",
    "        X_feature = X.copy()\n",
    "        for _ in range(n_repeats):\n",
    "            X_feature[feature] = np.random.permutation(X_feature[feature])\n",
    "            score = mean_squared_error(y, model.predict(X_feature))\n",
    "            scores[feature].append(score)\n",
    "\n",
    "    importance_scores = {feature: baseline_score - np.mean(scores[feature]) for feature in X.columns}\n",
    "    importance_std = {feature: np.std(scores[feature]) for feature in X.columns}\n",
    "\n",
    "    return pd.DataFrame({\n",
    "        'Feature': importance_scores.keys(),\n",
    "        'Permutation Importance Mean': importance_scores.values(),\n",
    "        'Permutation Importance Std': importance_std.values()\n",
    "    })\n"
   ]
  },
  {
   "cell_type": "markdown",
   "id": "2f2a9063",
   "metadata": {},
   "source": [
    "# Read"
   ]
  },
  {
   "cell_type": "code",
   "execution_count": 30,
   "id": "76980463",
   "metadata": {
    "ExecuteTime": {
     "end_time": "2023-11-26T09:02:39.504943Z",
     "start_time": "2023-11-26T09:02:39.491179Z"
    }
   },
   "outputs": [],
   "source": [
    "X = pd.read_csv(\"/root/data/explain.csv\", index_col=0)\n",
    "y = pd.read_csv(\"/root/data/answer.csv\", index_col=0)"
   ]
  },
  {
   "cell_type": "code",
   "execution_count": 31,
   "id": "6935a316",
   "metadata": {
    "ExecuteTime": {
     "end_time": "2023-11-26T09:02:39.510905Z",
     "start_time": "2023-11-26T09:02:39.506871Z"
    }
   },
   "outputs": [],
   "source": [
    "# Split the dataset into training and testing sets\n",
    "X_train, X_test, y_train, y_test = train_test_split(X, y, test_size=0.2, random_state=0)"
   ]
  },
  {
   "cell_type": "code",
   "execution_count": 47,
   "id": "d6039a2c",
   "metadata": {
    "ExecuteTime": {
     "end_time": "2023-11-26T09:33:07.806336Z",
     "start_time": "2023-11-26T09:33:07.800537Z"
    }
   },
   "outputs": [],
   "source": [
    "X_train_drop = X_train.drop([\"X2\", \"X3\"], axis=1)\n",
    "X_test_drop = X_test.drop([\"X2\", \"X3\"], axis=1)"
   ]
  },
  {
   "cell_type": "markdown",
   "id": "b004649e",
   "metadata": {},
   "source": [
    "# Train"
   ]
  },
  {
   "cell_type": "code",
   "execution_count": 55,
   "id": "3e7060fe",
   "metadata": {
    "ExecuteTime": {
     "end_time": "2023-11-26T09:38:34.312488Z",
     "start_time": "2023-11-26T09:38:11.911444Z"
    },
    "scrolled": true
   },
   "outputs": [
    {
     "name": "stderr",
     "output_type": "stream",
     "text": [
      "/root/.venv/lib/python3.10/site-packages/sklearn/ensemble/_gb.py:424: DataConversionWarning: A column-vector y was passed when a 1d array was expected. Please change the shape of y to (n_samples, ), for example using ravel().\n",
      "  y = column_or_1d(y, warn=True)\n",
      "/root/.venv/lib/python3.10/site-packages/sklearn/neural_network/_multilayer_perceptron.py:1625: DataConversionWarning: A column-vector y was passed when a 1d array was expected. Please change the shape of y to (n_samples, ), for example using ravel().\n",
      "  y = column_or_1d(y, warn=True)\n",
      "/root/.venv/lib/python3.10/site-packages/sklearn/neural_network/_multilayer_perceptron.py:691: ConvergenceWarning: Stochastic Optimizer: Maximum iterations (500) reached and the optimization hasn't converged yet.\n",
      "  warnings.warn(\n",
      "/root/.venv/lib/python3.10/site-packages/sklearn/ensemble/_gb.py:424: DataConversionWarning: A column-vector y was passed when a 1d array was expected. Please change the shape of y to (n_samples, ), for example using ravel().\n",
      "  y = column_or_1d(y, warn=True)\n",
      "/root/.venv/lib/python3.10/site-packages/sklearn/neural_network/_multilayer_perceptron.py:1625: DataConversionWarning: A column-vector y was passed when a 1d array was expected. Please change the shape of y to (n_samples, ), for example using ravel().\n",
      "  y = column_or_1d(y, warn=True)\n",
      "/root/.venv/lib/python3.10/site-packages/sklearn/neural_network/_multilayer_perceptron.py:691: ConvergenceWarning: Stochastic Optimizer: Maximum iterations (500) reached and the optimization hasn't converged yet.\n",
      "  warnings.warn(\n"
     ]
    }
   ],
   "source": [
    "# Initialize models\n",
    "linear_model = LinearRegression()\n",
    "gbdt_model = GradientBoostingRegressor(random_state=0)\n",
    "nn_model = MLPRegressor(random_state=0, max_iter=500)\n",
    "\n",
    "# Train models and make predictions\n",
    "models = [linear_model, gbdt_model, nn_model]\n",
    "dropped_models = deepcopy(models)\n",
    "model_names = ['Linear Regression', 'GBDT', 'Neural Network']\n",
    "predictions = []\n",
    "dropped_predictions = []\n",
    "\n",
    "for model in models:\n",
    "    model.fit(X_train, y_train)\n",
    "    predictions.append(model.predict(X_test))\n",
    "    \n",
    "for model in dropped_models:\n",
    "    model.fit(X_train_drop, y_train)\n",
    "    dropped_predictions.append(model.predict(X_test_drop))"
   ]
  },
  {
   "cell_type": "markdown",
   "id": "a601de8b",
   "metadata": {},
   "source": [
    "# Infer"
   ]
  },
  {
   "cell_type": "code",
   "execution_count": 56,
   "id": "170df6cc",
   "metadata": {
    "ExecuteTime": {
     "end_time": "2023-11-26T09:38:34.421975Z",
     "start_time": "2023-11-26T09:38:34.320149Z"
    }
   },
   "outputs": [],
   "source": [
    "# Calculate metrics\n",
    "metrics = {'Model': model_names, 'MSE': [], 'MAE': [], 'R2 Score': [], 'Explained Variance': []}\n",
    "for y_pred in dropped_predictions:\n",
    "    metrics['MSE'].append(mean_squared_error(y_test, y_pred))\n",
    "    metrics['MAE'].append(mean_absolute_error(y_test, y_pred))\n",
    "    metrics['R2 Score'].append(r2_score(y_test, y_pred))\n",
    "    metrics['Explained Variance'].append(explained_variance_score(y_test, y_pred))\n",
    "\n",
    "# Create a DataFrame\n",
    "metrics_df = pd.DataFrame(metrics)"
   ]
  },
  {
   "cell_type": "code",
   "execution_count": 57,
   "id": "bcefad7d",
   "metadata": {
    "ExecuteTime": {
     "end_time": "2023-11-26T09:38:34.442869Z",
     "start_time": "2023-11-26T09:38:34.423197Z"
    }
   },
   "outputs": [
    {
     "data": {
      "text/html": [
       "<div>\n",
       "<style scoped>\n",
       "    .dataframe tbody tr th:only-of-type {\n",
       "        vertical-align: middle;\n",
       "    }\n",
       "\n",
       "    .dataframe tbody tr th {\n",
       "        vertical-align: top;\n",
       "    }\n",
       "\n",
       "    .dataframe thead th {\n",
       "        text-align: right;\n",
       "    }\n",
       "</style>\n",
       "<table border=\"1\" class=\"dataframe\">\n",
       "  <thead>\n",
       "    <tr style=\"text-align: right;\">\n",
       "      <th></th>\n",
       "      <th>Model</th>\n",
       "      <th>MSE</th>\n",
       "      <th>MAE</th>\n",
       "      <th>R2 Score</th>\n",
       "      <th>Explained Variance</th>\n",
       "    </tr>\n",
       "  </thead>\n",
       "  <tbody>\n",
       "    <tr>\n",
       "      <th>0</th>\n",
       "      <td>Linear Regression</td>\n",
       "      <td>1.374515</td>\n",
       "      <td>0.938111</td>\n",
       "      <td>0.494616</td>\n",
       "      <td>0.498353</td>\n",
       "    </tr>\n",
       "    <tr>\n",
       "      <th>1</th>\n",
       "      <td>GBDT</td>\n",
       "      <td>0.839426</td>\n",
       "      <td>0.776846</td>\n",
       "      <td>0.691359</td>\n",
       "      <td>0.695216</td>\n",
       "    </tr>\n",
       "    <tr>\n",
       "      <th>2</th>\n",
       "      <td>Neural Network</td>\n",
       "      <td>0.958882</td>\n",
       "      <td>0.805052</td>\n",
       "      <td>0.647437</td>\n",
       "      <td>0.649305</td>\n",
       "    </tr>\n",
       "  </tbody>\n",
       "</table>\n",
       "</div>"
      ],
      "text/plain": [
       "               Model       MSE       MAE  R2 Score  Explained Variance\n",
       "0  Linear Regression  1.374515  0.938111  0.494616            0.498353\n",
       "1               GBDT  0.839426  0.776846  0.691359            0.695216\n",
       "2     Neural Network  0.958882  0.805052  0.647437            0.649305"
      ]
     },
     "execution_count": 57,
     "metadata": {},
     "output_type": "execute_result"
    }
   ],
   "source": [
    "# Display the DataFrame\n",
    "metrics_df"
   ]
  },
  {
   "cell_type": "code",
   "execution_count": 34,
   "id": "c40d2369",
   "metadata": {
    "ExecuteTime": {
     "end_time": "2023-11-26T09:02:51.130041Z",
     "start_time": "2023-11-26T09:02:51.114902Z"
    },
    "scrolled": false
   },
   "outputs": [
    {
     "data": {
      "text/html": [
       "<div>\n",
       "<style scoped>\n",
       "    .dataframe tbody tr th:only-of-type {\n",
       "        vertical-align: middle;\n",
       "    }\n",
       "\n",
       "    .dataframe tbody tr th {\n",
       "        vertical-align: top;\n",
       "    }\n",
       "\n",
       "    .dataframe thead th {\n",
       "        text-align: right;\n",
       "    }\n",
       "</style>\n",
       "<table border=\"1\" class=\"dataframe\">\n",
       "  <thead>\n",
       "    <tr style=\"text-align: right;\">\n",
       "      <th></th>\n",
       "      <th>Model</th>\n",
       "      <th>MSE</th>\n",
       "      <th>MAE</th>\n",
       "      <th>R2 Score</th>\n",
       "      <th>Explained Variance</th>\n",
       "    </tr>\n",
       "  </thead>\n",
       "  <tbody>\n",
       "    <tr>\n",
       "      <th>0</th>\n",
       "      <td>Linear Regression</td>\n",
       "      <td>1.039017</td>\n",
       "      <td>0.751769</td>\n",
       "      <td>0.617972</td>\n",
       "      <td>0.620090</td>\n",
       "    </tr>\n",
       "    <tr>\n",
       "      <th>1</th>\n",
       "      <td>GBDT</td>\n",
       "      <td>0.127606</td>\n",
       "      <td>0.277531</td>\n",
       "      <td>0.953082</td>\n",
       "      <td>0.953512</td>\n",
       "    </tr>\n",
       "    <tr>\n",
       "      <th>2</th>\n",
       "      <td>Neural Network</td>\n",
       "      <td>0.353673</td>\n",
       "      <td>0.417826</td>\n",
       "      <td>0.869961</td>\n",
       "      <td>0.871198</td>\n",
       "    </tr>\n",
       "  </tbody>\n",
       "</table>\n",
       "</div>"
      ],
      "text/plain": [
       "               Model       MSE       MAE  R2 Score  Explained Variance\n",
       "0  Linear Regression  1.039017  0.751769  0.617972            0.620090\n",
       "1               GBDT  0.127606  0.277531  0.953082            0.953512\n",
       "2     Neural Network  0.353673  0.417826  0.869961            0.871198"
      ]
     },
     "execution_count": 34,
     "metadata": {},
     "output_type": "execute_result"
    }
   ],
   "source": [
    "# Display the DataFrame\n",
    "metrics_df"
   ]
  },
  {
   "cell_type": "markdown",
   "id": "21bb4280",
   "metadata": {},
   "source": [
    "# Importance"
   ]
  },
  {
   "cell_type": "code",
   "execution_count": 35,
   "id": "ffa8a204",
   "metadata": {
    "ExecuteTime": {
     "end_time": "2023-11-26T09:02:55.422396Z",
     "start_time": "2023-11-26T09:02:51.132005Z"
    }
   },
   "outputs": [],
   "source": [
    "permutation_importance_dfs = [ permutation_importance(model, X_train, y_train) for model in models]\n",
    "null_importance_dfs = [null_importance(model, X_train, y_train) for model in models]"
   ]
  },
  {
   "cell_type": "code",
   "execution_count": 41,
   "id": "e764abad",
   "metadata": {
    "ExecuteTime": {
     "end_time": "2023-11-26T09:03:25.988763Z",
     "start_time": "2023-11-26T09:03:25.976533Z"
    }
   },
   "outputs": [
    {
     "data": {
      "text/html": [
       "<div>\n",
       "<style scoped>\n",
       "    .dataframe tbody tr th:only-of-type {\n",
       "        vertical-align: middle;\n",
       "    }\n",
       "\n",
       "    .dataframe tbody tr th {\n",
       "        vertical-align: top;\n",
       "    }\n",
       "\n",
       "    .dataframe thead th {\n",
       "        text-align: right;\n",
       "    }\n",
       "</style>\n",
       "<table border=\"1\" class=\"dataframe\">\n",
       "  <thead>\n",
       "    <tr style=\"text-align: right;\">\n",
       "      <th></th>\n",
       "      <th>Feature</th>\n",
       "      <th>Null Importance Mean</th>\n",
       "      <th>Null Importance Std</th>\n",
       "    </tr>\n",
       "  </thead>\n",
       "  <tbody>\n",
       "    <tr>\n",
       "      <th>0</th>\n",
       "      <td>X1</td>\n",
       "      <td>2.452633</td>\n",
       "      <td>0.097065</td>\n",
       "    </tr>\n",
       "    <tr>\n",
       "      <th>1</th>\n",
       "      <td>X2</td>\n",
       "      <td>0.702695</td>\n",
       "      <td>0.037877</td>\n",
       "    </tr>\n",
       "    <tr>\n",
       "      <th>2</th>\n",
       "      <td>X3</td>\n",
       "      <td>0.430317</td>\n",
       "      <td>0.029245</td>\n",
       "    </tr>\n",
       "    <tr>\n",
       "      <th>3</th>\n",
       "      <td>X4</td>\n",
       "      <td>0.349963</td>\n",
       "      <td>0.029423</td>\n",
       "    </tr>\n",
       "    <tr>\n",
       "      <th>4</th>\n",
       "      <td>X5</td>\n",
       "      <td>0.301171</td>\n",
       "      <td>0.017716</td>\n",
       "    </tr>\n",
       "    <tr>\n",
       "      <th>5</th>\n",
       "      <td>X6</td>\n",
       "      <td>0.222656</td>\n",
       "      <td>0.019724</td>\n",
       "    </tr>\n",
       "    <tr>\n",
       "      <th>6</th>\n",
       "      <td>X7</td>\n",
       "      <td>0.120515</td>\n",
       "      <td>0.015305</td>\n",
       "    </tr>\n",
       "    <tr>\n",
       "      <th>7</th>\n",
       "      <td>X8</td>\n",
       "      <td>0.061948</td>\n",
       "      <td>0.014061</td>\n",
       "    </tr>\n",
       "    <tr>\n",
       "      <th>8</th>\n",
       "      <td>X9</td>\n",
       "      <td>0.036463</td>\n",
       "      <td>0.010795</td>\n",
       "    </tr>\n",
       "    <tr>\n",
       "      <th>9</th>\n",
       "      <td>X10</td>\n",
       "      <td>0.010115</td>\n",
       "      <td>0.002900</td>\n",
       "    </tr>\n",
       "  </tbody>\n",
       "</table>\n",
       "</div>"
      ],
      "text/plain": [
       "  Feature  Null Importance Mean  Null Importance Std\n",
       "0      X1              2.452633             0.097065\n",
       "1      X2              0.702695             0.037877\n",
       "2      X3              0.430317             0.029245\n",
       "3      X4              0.349963             0.029423\n",
       "4      X5              0.301171             0.017716\n",
       "5      X6              0.222656             0.019724\n",
       "6      X7              0.120515             0.015305\n",
       "7      X8              0.061948             0.014061\n",
       "8      X9              0.036463             0.010795\n",
       "9     X10              0.010115             0.002900"
      ]
     },
     "execution_count": 41,
     "metadata": {},
     "output_type": "execute_result"
    }
   ],
   "source": [
    "null_importance_dfs[0].sort_values(\"Null Importance Mean\", ascending=False)"
   ]
  },
  {
   "cell_type": "code",
   "execution_count": 42,
   "id": "40252c3a",
   "metadata": {
    "ExecuteTime": {
     "end_time": "2023-11-26T09:03:30.545147Z",
     "start_time": "2023-11-26T09:03:30.532984Z"
    }
   },
   "outputs": [
    {
     "data": {
      "text/html": [
       "<div>\n",
       "<style scoped>\n",
       "    .dataframe tbody tr th:only-of-type {\n",
       "        vertical-align: middle;\n",
       "    }\n",
       "\n",
       "    .dataframe tbody tr th {\n",
       "        vertical-align: top;\n",
       "    }\n",
       "\n",
       "    .dataframe thead th {\n",
       "        text-align: right;\n",
       "    }\n",
       "</style>\n",
       "<table border=\"1\" class=\"dataframe\">\n",
       "  <thead>\n",
       "    <tr style=\"text-align: right;\">\n",
       "      <th></th>\n",
       "      <th>Feature</th>\n",
       "      <th>Permutation Importance Mean</th>\n",
       "      <th>Permutation Importance Std</th>\n",
       "    </tr>\n",
       "  </thead>\n",
       "  <tbody>\n",
       "    <tr>\n",
       "      <th>0</th>\n",
       "      <td>X1</td>\n",
       "      <td>-2.555233</td>\n",
       "      <td>0.102684</td>\n",
       "    </tr>\n",
       "    <tr>\n",
       "      <th>1</th>\n",
       "      <td>X2</td>\n",
       "      <td>-0.696515</td>\n",
       "      <td>0.034684</td>\n",
       "    </tr>\n",
       "    <tr>\n",
       "      <th>2</th>\n",
       "      <td>X3</td>\n",
       "      <td>-0.411090</td>\n",
       "      <td>0.034232</td>\n",
       "    </tr>\n",
       "    <tr>\n",
       "      <th>3</th>\n",
       "      <td>X4</td>\n",
       "      <td>-0.349987</td>\n",
       "      <td>0.022195</td>\n",
       "    </tr>\n",
       "    <tr>\n",
       "      <th>4</th>\n",
       "      <td>X5</td>\n",
       "      <td>-0.315899</td>\n",
       "      <td>0.026776</td>\n",
       "    </tr>\n",
       "    <tr>\n",
       "      <th>5</th>\n",
       "      <td>X6</td>\n",
       "      <td>-0.214979</td>\n",
       "      <td>0.012395</td>\n",
       "    </tr>\n",
       "    <tr>\n",
       "      <th>6</th>\n",
       "      <td>X7</td>\n",
       "      <td>-0.128896</td>\n",
       "      <td>0.017197</td>\n",
       "    </tr>\n",
       "    <tr>\n",
       "      <th>7</th>\n",
       "      <td>X8</td>\n",
       "      <td>-0.059340</td>\n",
       "      <td>0.009369</td>\n",
       "    </tr>\n",
       "    <tr>\n",
       "      <th>8</th>\n",
       "      <td>X9</td>\n",
       "      <td>-0.034608</td>\n",
       "      <td>0.007071</td>\n",
       "    </tr>\n",
       "    <tr>\n",
       "      <th>9</th>\n",
       "      <td>X10</td>\n",
       "      <td>-0.011298</td>\n",
       "      <td>0.003550</td>\n",
       "    </tr>\n",
       "  </tbody>\n",
       "</table>\n",
       "</div>"
      ],
      "text/plain": [
       "  Feature  Permutation Importance Mean  Permutation Importance Std\n",
       "0      X1                    -2.555233                    0.102684\n",
       "1      X2                    -0.696515                    0.034684\n",
       "2      X3                    -0.411090                    0.034232\n",
       "3      X4                    -0.349987                    0.022195\n",
       "4      X5                    -0.315899                    0.026776\n",
       "5      X6                    -0.214979                    0.012395\n",
       "6      X7                    -0.128896                    0.017197\n",
       "7      X8                    -0.059340                    0.009369\n",
       "8      X9                    -0.034608                    0.007071\n",
       "9     X10                    -0.011298                    0.003550"
      ]
     },
     "execution_count": 42,
     "metadata": {},
     "output_type": "execute_result"
    }
   ],
   "source": [
    "permutation_importance_dfs[0].sort_values(\"Permutation Importance Mean\")"
   ]
  },
  {
   "cell_type": "code",
   "execution_count": 43,
   "id": "ea70db1a",
   "metadata": {
    "ExecuteTime": {
     "end_time": "2023-11-26T09:03:35.594665Z",
     "start_time": "2023-11-26T09:03:35.586690Z"
    }
   },
   "outputs": [
    {
     "data": {
      "text/html": [
       "<div>\n",
       "<style scoped>\n",
       "    .dataframe tbody tr th:only-of-type {\n",
       "        vertical-align: middle;\n",
       "    }\n",
       "\n",
       "    .dataframe tbody tr th {\n",
       "        vertical-align: top;\n",
       "    }\n",
       "\n",
       "    .dataframe thead th {\n",
       "        text-align: right;\n",
       "    }\n",
       "</style>\n",
       "<table border=\"1\" class=\"dataframe\">\n",
       "  <thead>\n",
       "    <tr style=\"text-align: right;\">\n",
       "      <th></th>\n",
       "      <th>Feature</th>\n",
       "      <th>Permutation Importance Mean</th>\n",
       "      <th>Permutation Importance Std</th>\n",
       "    </tr>\n",
       "  </thead>\n",
       "  <tbody>\n",
       "    <tr>\n",
       "      <th>0</th>\n",
       "      <td>X1</td>\n",
       "      <td>-2.408544</td>\n",
       "      <td>0.076132</td>\n",
       "    </tr>\n",
       "    <tr>\n",
       "      <th>1</th>\n",
       "      <td>X2</td>\n",
       "      <td>-0.908316</td>\n",
       "      <td>0.030576</td>\n",
       "    </tr>\n",
       "    <tr>\n",
       "      <th>2</th>\n",
       "      <td>X3</td>\n",
       "      <td>-0.483853</td>\n",
       "      <td>0.020616</td>\n",
       "    </tr>\n",
       "    <tr>\n",
       "      <th>3</th>\n",
       "      <td>X4</td>\n",
       "      <td>-0.429105</td>\n",
       "      <td>0.013516</td>\n",
       "    </tr>\n",
       "    <tr>\n",
       "      <th>4</th>\n",
       "      <td>X5</td>\n",
       "      <td>-0.287860</td>\n",
       "      <td>0.009003</td>\n",
       "    </tr>\n",
       "    <tr>\n",
       "      <th>5</th>\n",
       "      <td>X6</td>\n",
       "      <td>-0.198343</td>\n",
       "      <td>0.005681</td>\n",
       "    </tr>\n",
       "    <tr>\n",
       "      <th>6</th>\n",
       "      <td>X7</td>\n",
       "      <td>-0.135336</td>\n",
       "      <td>0.005824</td>\n",
       "    </tr>\n",
       "    <tr>\n",
       "      <th>7</th>\n",
       "      <td>X8</td>\n",
       "      <td>-0.050176</td>\n",
       "      <td>0.002483</td>\n",
       "    </tr>\n",
       "    <tr>\n",
       "      <th>8</th>\n",
       "      <td>X9</td>\n",
       "      <td>-0.016016</td>\n",
       "      <td>0.000910</td>\n",
       "    </tr>\n",
       "    <tr>\n",
       "      <th>9</th>\n",
       "      <td>X10</td>\n",
       "      <td>-0.006593</td>\n",
       "      <td>0.000538</td>\n",
       "    </tr>\n",
       "  </tbody>\n",
       "</table>\n",
       "</div>"
      ],
      "text/plain": [
       "  Feature  Permutation Importance Mean  Permutation Importance Std\n",
       "0      X1                    -2.408544                    0.076132\n",
       "1      X2                    -0.908316                    0.030576\n",
       "2      X3                    -0.483853                    0.020616\n",
       "3      X4                    -0.429105                    0.013516\n",
       "4      X5                    -0.287860                    0.009003\n",
       "5      X6                    -0.198343                    0.005681\n",
       "6      X7                    -0.135336                    0.005824\n",
       "7      X8                    -0.050176                    0.002483\n",
       "8      X9                    -0.016016                    0.000910\n",
       "9     X10                    -0.006593                    0.000538"
      ]
     },
     "execution_count": 43,
     "metadata": {},
     "output_type": "execute_result"
    }
   ],
   "source": [
    "permutation_importance_dfs[1].sort_values(\"Permutation Importance Mean\")"
   ]
  },
  {
   "cell_type": "code",
   "execution_count": 44,
   "id": "07078238",
   "metadata": {
    "ExecuteTime": {
     "end_time": "2023-11-26T09:03:36.203447Z",
     "start_time": "2023-11-26T09:03:36.192171Z"
    }
   },
   "outputs": [
    {
     "data": {
      "text/html": [
       "<div>\n",
       "<style scoped>\n",
       "    .dataframe tbody tr th:only-of-type {\n",
       "        vertical-align: middle;\n",
       "    }\n",
       "\n",
       "    .dataframe tbody tr th {\n",
       "        vertical-align: top;\n",
       "    }\n",
       "\n",
       "    .dataframe thead th {\n",
       "        text-align: right;\n",
       "    }\n",
       "</style>\n",
       "<table border=\"1\" class=\"dataframe\">\n",
       "  <thead>\n",
       "    <tr style=\"text-align: right;\">\n",
       "      <th></th>\n",
       "      <th>Feature</th>\n",
       "      <th>Permutation Importance Mean</th>\n",
       "      <th>Permutation Importance Std</th>\n",
       "    </tr>\n",
       "  </thead>\n",
       "  <tbody>\n",
       "    <tr>\n",
       "      <th>0</th>\n",
       "      <td>X1</td>\n",
       "      <td>-2.818068</td>\n",
       "      <td>0.096091</td>\n",
       "    </tr>\n",
       "    <tr>\n",
       "      <th>1</th>\n",
       "      <td>X2</td>\n",
       "      <td>-0.845528</td>\n",
       "      <td>0.037593</td>\n",
       "    </tr>\n",
       "    <tr>\n",
       "      <th>2</th>\n",
       "      <td>X3</td>\n",
       "      <td>-0.748396</td>\n",
       "      <td>0.036398</td>\n",
       "    </tr>\n",
       "    <tr>\n",
       "      <th>3</th>\n",
       "      <td>X4</td>\n",
       "      <td>-0.541175</td>\n",
       "      <td>0.022492</td>\n",
       "    </tr>\n",
       "    <tr>\n",
       "      <th>5</th>\n",
       "      <td>X6</td>\n",
       "      <td>-0.363904</td>\n",
       "      <td>0.009583</td>\n",
       "    </tr>\n",
       "    <tr>\n",
       "      <th>4</th>\n",
       "      <td>X5</td>\n",
       "      <td>-0.356614</td>\n",
       "      <td>0.016296</td>\n",
       "    </tr>\n",
       "    <tr>\n",
       "      <th>6</th>\n",
       "      <td>X7</td>\n",
       "      <td>-0.196218</td>\n",
       "      <td>0.015178</td>\n",
       "    </tr>\n",
       "    <tr>\n",
       "      <th>7</th>\n",
       "      <td>X8</td>\n",
       "      <td>-0.096462</td>\n",
       "      <td>0.006357</td>\n",
       "    </tr>\n",
       "    <tr>\n",
       "      <th>8</th>\n",
       "      <td>X9</td>\n",
       "      <td>-0.070592</td>\n",
       "      <td>0.007088</td>\n",
       "    </tr>\n",
       "    <tr>\n",
       "      <th>9</th>\n",
       "      <td>X10</td>\n",
       "      <td>-0.046389</td>\n",
       "      <td>0.003918</td>\n",
       "    </tr>\n",
       "  </tbody>\n",
       "</table>\n",
       "</div>"
      ],
      "text/plain": [
       "  Feature  Permutation Importance Mean  Permutation Importance Std\n",
       "0      X1                    -2.818068                    0.096091\n",
       "1      X2                    -0.845528                    0.037593\n",
       "2      X3                    -0.748396                    0.036398\n",
       "3      X4                    -0.541175                    0.022492\n",
       "5      X6                    -0.363904                    0.009583\n",
       "4      X5                    -0.356614                    0.016296\n",
       "6      X7                    -0.196218                    0.015178\n",
       "7      X8                    -0.096462                    0.006357\n",
       "8      X9                    -0.070592                    0.007088\n",
       "9     X10                    -0.046389                    0.003918"
      ]
     },
     "execution_count": 44,
     "metadata": {},
     "output_type": "execute_result"
    }
   ],
   "source": [
    "permutation_importance_dfs[2].sort_values(\"Permutation Importance Mean\")"
   ]
  },
  {
   "cell_type": "code",
   "execution_count": null,
   "id": "27e716f6",
   "metadata": {},
   "outputs": [],
   "source": []
  }
 ],
 "metadata": {
  "kernelspec": {
   "display_name": "ascender",
   "language": "python",
   "name": "ascender"
  },
  "language_info": {
   "codemirror_mode": {
    "name": "ipython",
    "version": 3
   },
   "file_extension": ".py",
   "mimetype": "text/x-python",
   "name": "python",
   "nbconvert_exporter": "python",
   "pygments_lexer": "ipython3",
   "version": "3.10.12"
  },
  "toc": {
   "base_numbering": 1,
   "nav_menu": {},
   "number_sections": true,
   "sideBar": true,
   "skip_h1_title": false,
   "title_cell": "Table of Contents",
   "title_sidebar": "Contents",
   "toc_cell": false,
   "toc_position": {},
   "toc_section_display": true,
   "toc_window_display": false
  }
 },
 "nbformat": 4,
 "nbformat_minor": 5
}
